{
 "cells": [
  {
   "cell_type": "code",
   "execution_count": 1,
   "metadata": {},
   "outputs": [
    {
     "name": "stdout",
     "output_type": "stream",
     "text": [
      "Archivo Creado con exito!!\n"
     ]
    }
   ],
   "source": [
    "import csv\n",
    "\n",
    "personas = [\n",
    "    ['Ospina','Londoño','Andres'],\n",
    "    ['Gonzales','Gutierrez','Jose'],\n",
    "    ['Lozano','Mejia','Alba'],\n",
    "    ['Spulveda','Osorio','ivan'],\n",
    "\n",
    "]\n",
    "\n",
    "with open('../../fuentes/escrituraCSV.csv','w') as file:\n",
    "    escribir = csv.writer(file,delimiter=';')\n",
    "    escribir.writerows(personas)\n",
    "    \n",
    "print('Archivo Creado con exito!!')\n"
   ]
  },
  {
   "cell_type": "code",
   "execution_count": null,
   "metadata": {},
   "outputs": [],
   "source": []
  }
 ],
 "metadata": {
  "kernelspec": {
   "display_name": "Python 3",
   "language": "python",
   "name": "python3"
  },
  "language_info": {
   "codemirror_mode": {
    "name": "ipython",
    "version": 3
   },
   "file_extension": ".py",
   "mimetype": "text/x-python",
   "name": "python",
   "nbconvert_exporter": "python",
   "pygments_lexer": "ipython3",
   "version": "3.7.1"
  }
 },
 "nbformat": 4,
 "nbformat_minor": 2
}

{
 "cells": [
  {
   "cell_type": "code",
   "execution_count": 1,
   "metadata": {},
   "outputs": [
    {
     "name": "stdout",
     "output_type": "stream",
     "text": [
      "primera linea de texto\n",
      "Curso Ciencia de datos con Python\n",
      "---Ejercicio Basico---\n",
      "Probando lectura de archivo de texto!!\n",
      "Ultima linea de texto\n"
     ]
    }
   ],
   "source": [
    "f = open ('../../fuentes/lecturaTXT.txt','r')\n",
    "mensaje = f.read()\n",
    "print(mensaje)\n"
   ]
  },
  {
   "cell_type": "code",
   "execution_count": null,
   "metadata": {},
   "outputs": [],
   "source": [
    "f = open ('../../fuentes/lecturaTXT.txt','r')\n",
    "mensajes = f.readlines()\n",
    "f.close()\n",
    "print(mensajes)\n"
   ]
  },
  {
   "cell_type": "code",
   "execution_count": null,
   "metadata": {},
   "outputs": [],
   "source": [
    "fichero = open('../../fuentes/lecturaTXT.txt','r')\n",
    "textoLinea = fichero.readline()\n",
    "print(textoLinea)\n",
    "fichero.close()"
   ]
  },
  {
   "cell_type": "code",
   "execution_count": null,
   "metadata": {},
   "outputs": [],
   "source": [
    "f = open ('../../fuentes/escrituraTXT.txt','w')\n",
    "f.write('hola mundo, Primer archivo txt creado desde python.')\n",
    "f.close()\n",
    "print(\"Archivo Creado!!\")"
   ]
  },
  {
   "cell_type": "code",
   "execution_count": null,
   "metadata": {},
   "outputs": [],
   "source": [
    "archivo = open('../../fuentes/escrituraTXT.txt','a') # modo a, append, añadir - extender (puntero al final)"
   ]
  },
  {
   "cell_type": "code",
   "execution_count": null,
   "metadata": {},
   "outputs": [],
   "source": [
    "archivo.write('\\n modificacion archivo --- Ultima linea de texto')\n",
    "archivo.close()"
   ]
  },
  {
   "cell_type": "code",
   "execution_count": null,
   "metadata": {},
   "outputs": [],
   "source": []
  }
 ],
 "metadata": {
  "kernelspec": {
   "display_name": "Python 3",
   "language": "python",
   "name": "python3"
  },
  "language_info": {
   "codemirror_mode": {
    "name": "ipython",
    "version": 3
   },
   "file_extension": ".py",
   "mimetype": "text/x-python",
   "name": "python",
   "nbconvert_exporter": "python",
   "pygments_lexer": "ipython3",
   "version": "3.7.1"
  }
 },
 "nbformat": 4,
 "nbformat_minor": 2
}

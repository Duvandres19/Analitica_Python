{
 "cells": [
  {
   "cell_type": "code",
   "execution_count": 3,
   "metadata": {},
   "outputs": [
    {
     "name": "stdout",
     "output_type": "stream",
     "text": [
      "curso {'clave': 'py101', 'nombre': 'Introducción a la Programación con Python 3'}\n",
      "curso {'clave': 'py111', 'nombre': 'Introducción a la programación orientada a objetos con Python 3'}\n",
      "curso {'clave': 'py121', 'nombre': 'Introducción a manejo de datos con Python'}\n"
     ]
    }
   ],
   "source": [
    "import xml.etree.ElementTree as ET\n",
    "cursos = ET.parse(\"../../fuentes/ManejoArchivoXML.xml\")\n",
    "raiz = cursos.getroot()\n",
    "for hijo in raiz:\n",
    "    print(hijo.tag, hijo.attrib)\n",
    "\n"
   ]
  },
  {
   "cell_type": "code",
   "execution_count": null,
   "metadata": {},
   "outputs": [],
   "source": []
  }
 ],
 "metadata": {
  "kernelspec": {
   "display_name": "Python 3",
   "language": "python",
   "name": "python3"
  },
  "language_info": {
   "codemirror_mode": {
    "name": "ipython",
    "version": 3
   },
   "file_extension": ".py",
   "mimetype": "text/x-python",
   "name": "python",
   "nbconvert_exporter": "python",
   "pygments_lexer": "ipython3",
   "version": "3.7.1"
  }
 },
 "nbformat": 4,
 "nbformat_minor": 2
}

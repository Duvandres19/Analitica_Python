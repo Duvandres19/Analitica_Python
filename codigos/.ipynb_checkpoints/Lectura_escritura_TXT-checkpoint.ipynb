{
 "cells": [
  {
   "cell_type": "code",
   "execution_count": 1,
   "metadata": {},
   "outputs": [
    {
     "name": "stdout",
     "output_type": "stream",
     "text": [
      "Curso Ciencia de datos con Python\n",
      "\n",
      "\n",
      "---Ejercicio Basico---\n",
      "\n",
      "\n",
      "Probando lectura de archivo de texto!!\n"
     ]
    }
   ],
   "source": [
    "f = open ('../fuentes/lecturaTXT.txt','r')\n",
    "mensaje = f.read()\n",
    "print(mensaje)\n",
    "f.close()"
   ]
  },
  {
   "cell_type": "code",
   "execution_count": 2,
   "metadata": {},
   "outputs": [
    {
     "name": "stdout",
     "output_type": "stream",
     "text": [
      "Archivo Creado!!\n"
     ]
    }
   ],
   "source": [
    "f = open ('../fuentes/escrituraTXT.txt','w')\n",
    "f.write('hola mundo, Primer archivo txt creado desde python.')\n",
    "f.close()\n",
    "print(\"Archivo Creado!!\")"
   ]
  },
  {
   "cell_type": "code",
   "execution_count": null,
   "metadata": {},
   "outputs": [],
   "source": []
  }
 ],
 "metadata": {
  "kernelspec": {
   "display_name": "Python 3",
   "language": "python",
   "name": "python3"
  },
  "language_info": {
   "codemirror_mode": {
    "name": "ipython",
    "version": 3
   },
   "file_extension": ".py",
   "mimetype": "text/x-python",
   "name": "python",
   "nbconvert_exporter": "python",
   "pygments_lexer": "ipython3",
   "version": "3.7.1"
  }
 },
 "nbformat": 4,
 "nbformat_minor": 2
}

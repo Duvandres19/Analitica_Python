{
 "cells": [
  {
   "cell_type": "code",
   "execution_count": 2,
   "metadata": {},
   "outputs": [],
   "source": [
    "import json\n",
    "data = {}\n",
    "data['clientes'] = []\n",
    "data['clientes'].append({\n",
    "    'first_name': 'Sigrid',\n",
    "    'last_name': 'Mannock',\n",
    "    'age': 27,\n",
    "    'amount': 7.17})\n",
    "data['clientes'].append({\n",
    "    'first_name': 'Joe',\n",
    "    'last_name': 'Hinners',\n",
    "    'age': 31,\n",
    "    'amount': [1.90, 5.50]})\n",
    "data['clientes'].append({\n",
    "    'first_name': 'Theodoric',\n",
    "    'last_name': 'Rivers',\n",
    "    'age': 36,\n",
    "    'amount': 1.11})\n",
    "with open('../fuentes/escritura_lectura_JSON.json', 'w') as file:\n",
    "    json.dump(data, file, indent=4)"
   ]
  },
  {
   "cell_type": "code",
   "execution_count": 5,
   "metadata": {},
   "outputs": [
    {
     "name": "stdout",
     "output_type": "stream",
     "text": [
      "First name: Sigrid\n",
      "Last name: Mannock\n",
      "Age: 27\n",
      "Amount: 7.17\n",
      "\n",
      "First name: Joe\n",
      "Last name: Hinners\n",
      "Age: 31\n",
      "Amount: [1.9, 5.5]\n",
      "\n",
      "First name: Theodoric\n",
      "Last name: Rivers\n",
      "Age: 36\n",
      "Amount: 1.11\n",
      "\n"
     ]
    }
   ],
   "source": [
    "with open('../fuentes/escritura_lectura_JSON.json') as file:\n",
    "    data = json.load(file)\n",
    "    for cliente in data['clientes']:\n",
    "        print('First name:', cliente['first_name'])\n",
    "        print('Last name:', cliente['last_name'])\n",
    "        print('Age:', cliente['age'])\n",
    "        print('Amount:', cliente['amount'])\n",
    "        print('')"
   ]
  },
  {
   "cell_type": "code",
   "execution_count": null,
   "metadata": {},
   "outputs": [],
   "source": []
  }
 ],
 "metadata": {
  "kernelspec": {
   "display_name": "Python 3",
   "language": "python",
   "name": "python3"
  },
  "language_info": {
   "codemirror_mode": {
    "name": "ipython",
    "version": 3
   },
   "file_extension": ".py",
   "mimetype": "text/x-python",
   "name": "python",
   "nbconvert_exporter": "python",
   "pygments_lexer": "ipython3",
   "version": "3.7.1"
  }
 },
 "nbformat": 4,
 "nbformat_minor": 2
}
